{
 "cells": [
  {
   "cell_type": "code",
   "execution_count": 1,
   "metadata": {},
   "outputs": [
    {
     "name": "stderr",
     "output_type": "stream",
     "text": [
      "/Library/Frameworks/Python.framework/Versions/3.7/lib/python3.7/importlib/_bootstrap.py:219: RuntimeWarning: numpy.ufunc size changed, may indicate binary incompatibility. Expected 216, got 192\n",
      "  return f(*args, **kwds)\n",
      "/Library/Frameworks/Python.framework/Versions/3.7/lib/python3.7/importlib/_bootstrap.py:219: RuntimeWarning: numpy.ufunc size changed, may indicate binary incompatibility. Expected 216, got 192\n",
      "  return f(*args, **kwds)\n"
     ]
    }
   ],
   "source": [
    "import numpy as np\n",
    "from gensim.models import KeyedVectors\n",
    "from sklearn.metrics.pairwise import cosine_similarity\n",
    "import pandas as pd"
   ]
  },
  {
   "cell_type": "code",
   "execution_count": 4,
   "metadata": {},
   "outputs": [],
   "source": [
    "word_vector=KeyedVectors.load_word2vec_format(\"../../GoogleNews-vectors-negative300.bin\",binary=True)"
   ]
  },
  {
   "cell_type": "code",
   "execution_count": 10,
   "metadata": {},
   "outputs": [],
   "source": [
    "X=np.array(pd.read_csv(\"Test (1)/Test.csv\"))"
   ]
  },
  {
   "cell_type": "code",
   "execution_count": 14,
   "metadata": {},
   "outputs": [
    {
     "data": {
      "text/plain": [
       "numpy.ndarray"
      ]
     },
     "execution_count": 14,
     "metadata": {},
     "output_type": "execute_result"
    }
   ],
   "source": [
    "type(X)"
   ]
  },
  {
   "cell_type": "code",
   "execution_count": 17,
   "metadata": {},
   "outputs": [],
   "source": [
    "def oddOneOut(words):\n",
    "    all_word_vect=[word_vector[word] for word in words]\n",
    "    avg_word_vect=np.mean(all_word_vect,axis=0)\n",
    "    min_sim=1.0\n",
    "    oddone=None\n",
    "    for word in words:\n",
    "        word_vect=word_vector[word]\n",
    "        sim=cosine_similarity([word_vect],[avg_word_vect])\n",
    "        if sim<min_sim:\n",
    "            min_sim=sim\n",
    "            oddone=word\n",
    "    return oddone"
   ]
  },
  {
   "cell_type": "code",
   "execution_count": 18,
   "metadata": {},
   "outputs": [
    {
     "name": "stdout",
     "output_type": "stream",
     "text": [
      "snake\n",
      "teacher\n",
      "cat\n",
      "pineapple\n",
      "India\n",
      "is\n",
      "was\n",
      "Australia\n",
      "Money\n",
      "think\n",
      "ship\n",
      "Rome\n",
      "Pool\n",
      "Egypt\n",
      "mouse\n",
      "helmet\n",
      "Universe\n",
      "Kill\n",
      "Club\n",
      "Sun\n"
     ]
    }
   ],
   "source": [
    "outcome=[]\n",
    "for i in range(X.shape[0]):\n",
    "    pred=oddOneOut(X[i])\n",
    "    print(pred)\n",
    "    outcome.append(pred)"
   ]
  },
  {
   "cell_type": "code",
   "execution_count": 20,
   "metadata": {},
   "outputs": [],
   "source": [
    "df=pd.DataFrame(outcome,columns=['OddOne'])"
   ]
  },
  {
   "cell_type": "code",
   "execution_count": 21,
   "metadata": {},
   "outputs": [],
   "source": [
    "df.to_csv(\"outcome.csv\",index=False)"
   ]
  },
  {
   "cell_type": "code",
   "execution_count": 22,
   "metadata": {},
   "outputs": [
    {
     "data": {
      "text/plain": [
       "array([['elephant', 'lion', 'tiger', 'goat', 'snake'],\n",
       "       ['man', 'policeman', 'fireman', 'teacher', 'postman'],\n",
       "       ['plane', 'bird', 'rocket', 'balloon', 'cat'],\n",
       "       ['onion', 'celery', 'lettuce', 'pineapple', 'potato'],\n",
       "       ['India', 'football', 'hockey', 'cricket', 'swimming'],\n",
       "       ['who', 'why', 'what', 'where', 'is'],\n",
       "       ['on', 'in', 'over', 'their', 'was'],\n",
       "       ['India', 'Australia', 'Japan', 'Russia', 'China'],\n",
       "       ['Dollar', 'Rupees', 'Euros', 'Cents', 'Money'],\n",
       "       ['eat', 'sleep', 'drink', 'think', 'dance'],\n",
       "       ['car', 'scooter', 'bike', 'bicycle', 'ship'],\n",
       "       ['Poland', 'Russia', 'England', 'Rome', 'Ukraine'],\n",
       "       ['Lake', 'Sea', 'River', 'Pool', 'Pond'],\n",
       "       ['Sun', 'Moon', 'Star', 'Mars', 'Egypt'],\n",
       "       ['fox', 'wolf', 'jackal', 'mouse', 'panther'],\n",
       "       ['veil', 'turban', 'helmet', 'shirt', 'hat'],\n",
       "       ['Physics', 'Chemistry', 'Geography', 'Botany', 'Universe'],\n",
       "       ['Assassinate', 'Kill', 'Kidnap', 'Stab', 'Murder'],\n",
       "       ['Hostel', 'Hotel', 'Inn', 'Club', 'Motel'],\n",
       "       ['Earth', 'Mars', 'Neptune', 'Pluto', 'Sun']], dtype=object)"
      ]
     },
     "execution_count": 22,
     "metadata": {},
     "output_type": "execute_result"
    }
   ],
   "source": [
    "X"
   ]
  },
  {
   "cell_type": "code",
   "execution_count": null,
   "metadata": {},
   "outputs": [],
   "source": []
  }
 ],
 "metadata": {
  "kernelspec": {
   "display_name": "Python 3",
   "language": "python",
   "name": "python3"
  },
  "language_info": {
   "codemirror_mode": {
    "name": "ipython",
    "version": 3
   },
   "file_extension": ".py",
   "mimetype": "text/x-python",
   "name": "python",
   "nbconvert_exporter": "python",
   "pygments_lexer": "ipython3",
   "version": "3.7.3"
  }
 },
 "nbformat": 4,
 "nbformat_minor": 2
}
